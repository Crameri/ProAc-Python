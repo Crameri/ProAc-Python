{
 "cells": [
  {
   "cell_type": "code",
   "execution_count": 1,
   "id": "c3b946ed-f45a-4ce3-91f2-8ee306836170",
   "metadata": {
    "tags": []
   },
   "outputs": [],
   "source": [
    "# ProAc 1.0.0 Python\n",
    "\n",
    "#import plotly.express as px\n",
    "\n",
    "# Point Kaleido to the Chromium \n",
    "import os\n",
    "os.environ[\"KALEIDO_EXECUTABLE\"] = \"/Applications/Chromium.app/Contents/MacOS/Chromium\"\n",
    "#os.environ[\"KALEIDO_EXECUTABLE\"] = \"/opt/homebrew/Caskroom/chromium/latest/Chromium.app/Contents/MacOS/Chromium\"\n",
    "\n",
    "import plotly.graph_objects as go\n",
    "import pandas as pd\n",
    "import numpy as np\n",
    "#import warnings\n",
    "import kaleido\n"
   ]
  },
  {
   "cell_type": "code",
   "execution_count": 5,
   "id": "5791610a-9c49-4f2c-8654-e7a6d3eacc42",
   "metadata": {
    "tags": []
   },
   "outputs": [
    {
     "name": "stdout",
     "output_type": "stream",
     "text": [
      "Total sum peer-review papers:  19\n"
     ]
    }
   ],
   "source": [
    "## User input ----------------------------\n",
    "\n",
    "FirstName             = 'Fabio'\n",
    "LastName              = 'Crameri' \n",
    "YearUpperLimitUser    = None #Set upper limit year here (e.g., 2025), or use current year when set to: None\n",
    "\n",
    "#FileName              = \"/Users/Fabio/ETH/CV/ScientificOutput/ScientificOutputCrameri.csv\"\n",
    "FileName              = './ScientificOutputCrameri.csv'\n",
    "#FileName              = './ScientificOutput-Template.csv'\n",
    "#FileName              = './ScientificOutput-ZERO.csv'\n",
    "\n",
    "SaveSVG               = True\n",
    "SavePDF               = True\n",
    "SavePNG               = True\n",
    "SaveHTML              = False\n",
    "\n",
    "TransparentBackground = False\n",
    "DarkMode              = False\n",
    "\n",
    "#------------------------------------\n",
    "# Set defaults – Do not make changes\n",
    "ProAc_VersionNumber = 1.0\n",
    "VerboseMode = False\n",
    "ExchangeColours = True\n",
    "InvertOnlyLightness = True\n",
    "lightenUpFactor = 0.0\n",
    "# Colours\n",
    "ColourPalette = 'ProAc1'\n",
    "FigScale = 5\n",
    "\n",
    "if SavePNG or SaveSVG:\n",
    "    #TransparentBackground = True  #Let the user decide here\n",
    "else:\n",
    "    TransparentBackground = False\n",
    "\n",
    "if pd.isna(YearUpperLimitUser) or YearUpperLimitUser==\"current\" :\n",
    "    YearUpperLimitUser = int( pd.to_datetime('today').strftime('%Y') )\n",
    "IN_YearUpperLimit = int(YearUpperLimitUser)\n",
    "\n",
    "if DarkMode:\n",
    "    darkFactor = -1\n",
    "else:\n",
    "    darkFactor = 1\n",
    "\n",
    "if ColourPalette=='ProAc1':\n",
    "#else:#ColourPalette==\"ProAc1\"\n",
    "    Colour1 = [36,70,95] #[1,25,89] #'#061A55' #blue\n",
    "    Colour2 = [228,169,161] #[253,186,196] #'#f3bdc4' #'#F3BDC4' #light pink\n",
    "    #Colour3 = [125,58,69] #'#753E46' #dark pink\n",
    "    #Colour4 = [255,237,247] #'#fceef6' #'#FCEEF6' #lightlight pink\n",
    "\n",
    "Colour5 = [200,200,200] #lightlight grey\n",
    "\n",
    "if DarkMode and ExchangeColours:\n",
    "    dummy = Colour1\n",
    "    Colour1 = Colour2\n",
    "    Colour2 = dummy\n",
    "    Colour5 = [255-element for element in Colour5]\n",
    "    lightenUpFactor = 0.05\n",
    "\n",
    "Colour3 = [max(0,min(255,element-255*0.5*darkFactor)) for element in Colour2] #[125,58,69] #'#753E46' #dark pink\n",
    "Colour4 = [max(0,min(255,element+255*(0.2-lightenUpFactor)*darkFactor)) for element in Colour2] #[255,237,247] #'#FCEEF6' #lightlight pink\n",
    "\n",
    "\n",
    "if DarkMode:\n",
    "    ForegroundColour = 'rgb(255,255,255)'\n",
    "    BackgroundColour = 'rgb(0,0,0)'\n",
    "    TransparentColour = \"rgba(0,0,0,0)\"\n",
    "    if not ExchangeColours:\n",
    "        if InvertOnlyLightness: \n",
    "            lightenUpFactor = 1. #15\n",
    "            dummy = [element+(255-min(Colour1))-max(Colour1)+min((element)/100*lightenUpFactor,element) for element in Colour1]\n",
    "            Colour1 = dummy\n",
    "            dummy = [element+(255-min(Colour2))-max(Colour2)+min((element)/100*lightenUpFactor,element) for element in Colour2]\n",
    "            Colour2 = dummy\n",
    "            dummy = [element+(255-min(Colour3))-max(Colour3)+min((element)/100*lightenUpFactor,element) for element in Colour3]\n",
    "            Colour3 = dummy\n",
    "            dummy = [element+(255-min(Colour4))-max(Colour4)+min((element)/100*lightenUpFactor,element) for element in Colour4]\n",
    "            Colour4 = dummy\n",
    "            dummy = [element+(255-min(Colour5))-max(Colour5)+min((element)/100*lightenUpFactor,element) for element in Colour5]\n",
    "            Colour5 = dummy\n",
    "        else:\n",
    "            Colour1 = [255-element for element in Colour1]\n",
    "            Colour2 = [255-element for element in Colour2]\n",
    "            Colour3 = [255-element for element in Colour3]\n",
    "            Colour4 = [255-element for element in Colour4]\n",
    "            Colour5 = [255-element for element in Colour5]\n",
    "\n",
    "else:\n",
    "    ForegroundColour = 'rgb(0,0,0)'\n",
    "    BackgroundColour = 'rgb(255,255,255)'\n",
    "    TransparentColour = 'rgba(255,255,255,0)'\n",
    "\n",
    "Colour1 = \"rgb(\"+str(Colour1[0])+\",\"+str(Colour1[1])+\",\"+str(Colour1[2])+\")\"\n",
    "Colour2 = \"rgb(\"+str(Colour2[0])+\",\"+str(Colour2[1])+\",\"+str(Colour2[2])+\")\"\n",
    "Colour3 = \"rgb(\"+str(Colour3[0])+\",\"+str(Colour3[1])+\",\"+str(Colour3[2])+\")\"\n",
    "Colour4 = \"rgb(\"+str(Colour4[0])+\",\"+str(Colour4[1])+\",\"+str(Colour4[2])+\")\"\n",
    "Colour5 = \"rgb(\"+str(Colour5[0])+\",\"+str(Colour5[1])+\",\"+str(Colour5[2])+\")\"\n",
    "\n",
    "    \n",
    "if TransparentBackground:\n",
    "    CanvasColour = 'rgba(0,0,0,0)'\n",
    "elif DarkMode:\n",
    "    CanvasColour = 'rgba(0,0,0,1)'\n",
    "else:\n",
    "    CanvasColour = 'rgba(255,255,255,1)'\n",
    "    \n",
    "    \n",
    "BoldString1 = \"<b>\"\n",
    "BoldString2 = \"</b>\"\n",
    "\n",
    "ProAcString = BoldString1+'ProAc '+BoldString2+str(ProAc_VersionNumber)\n",
    "\n",
    "CreationDateString = pd.to_datetime('today').strftime('%d-%b-%Y') #\"24-Nov-2022\"\n",
    "CreationDateString2 = pd.to_datetime('today').strftime('%Y-%b') #\"2022-Nov\" - used for file naming\n",
    "ProAcCopyrightString = '©ProAc Academic Profile ' + str(ProAc_VersionNumber)\n",
    "UndertoneDesignWatermark = 'by Undertone.design'\n",
    "\n",
    "AnnotationShiftX = 0.253\n",
    "AnnotationBaseY = -0.072\n",
    "ShiftWatermarkY = -0.074\n",
    "\n",
    "FontSizeGeneral = 18\n",
    "FontSizeSmall = FontSizeGeneral/2\n",
    "FontSizeNumbers = 12\n",
    "\n",
    "\n",
    "## Read CSV\n",
    "SciOutput = pd.read_csv(FileName)\n",
    "SciOutput.head()\n",
    "\n",
    "rowNum = 1\n",
    "#println(\"ROW: \",SciOutput[1,:])\n",
    "\n",
    "colName = \"Tag\"\n",
    "#println(\"COLUMN: \",SciOutput[:,colName])\n",
    "\n",
    "#individual entry\n",
    "#println(SciOutput[rowNum,colName])\n",
    "\n",
    "\n",
    "IndexYear               = \"Year\"\n",
    "IndexTag                = \"Tag\"\n",
    "IndexKind               = \"Kind\"\n",
    "IndexTitle              = \"Title\"\n",
    "IndexPublisher        \t= \"Publisher\"\n",
    "IndexFirstAuthored      = \"First authored\"\n",
    "IndexWithPhDsupervisor  = \"Including PhD supervisor\"\n",
    "IndexCurrentCitations   = \"Citations\"\n",
    "IndexOpenAccess        \t= \"Open access\"\n",
    "\n",
    "#Clean up column names\n",
    "if 'FirstAuthored' in SciOutput.columns:\n",
    "    SciOutput.rename(columns={'FirstAuthored':'First authored'},inplace=True)\n",
    "if 'IncludingPhDSupervisor' in SciOutput.columns:\n",
    "    SciOutput.rename(columns={'IncludingPhDSupervisor':'Including PhD supervisor'},inplace=True)\n",
    "if 'OpenAccess' in SciOutput.columns:\n",
    "    SciOutput.rename(columns={'OpenAccess':'Open access'},inplace=True)\n",
    "if 'SingleAuthored' in SciOutput.columns:\n",
    "    SciOutput.rename(columns={'SingleAuthored':'Single authored'},inplace=True)\n",
    "if 'PhDPublication' in SciOutput.columns:\n",
    "    SciOutput.rename(columns={'PhDPublication':'PHD publication'},inplace=True)\n",
    "if 'FullReference' in SciOutput.columns:\n",
    "    SciOutput.rename(columns={'FullReference':'Full reference'},inplace=True)\n",
    "if 'Current number of citations' in SciOutput.columns:\n",
    "    SciOutput.rename(columns={'Current number of citations':'Citations'},inplace=True)\n",
    "#print(SciOutput.columns.values)\n",
    "\n",
    "\n",
    "## Process data\n",
    "CurrentYear = pd.to_datetime('today').strftime('%Y') #The year until citation numbers are counted to\n",
    "#CurrentYear = parse(Int64, CurrentYear)\n",
    "CurrentYear = int(CurrentYear)\n",
    "\n",
    "\n",
    "if IN_YearUpperLimit<CurrentYear:\n",
    "    takeOlderThanOne = True\n",
    "else:\n",
    "    takeOlderThanOne = False\n",
    "\n",
    "#clean up data (nan's and empty entries)\n",
    "#SciOutput = filter!(e->e≠[\"NaN\",\"\"],SciOutput[IndexYear])\n",
    "#SciOutput(isnan([SciOutput{:,IndexYear}]),:) = []\n",
    "#SciOutput[IndexYear].replace('', np.nan, inplace=True) #replace any empty strings in the \"Years\" column with np.nan objects\n",
    "#SciOutput.dropna(subset=[IndexYear], inplace=True)\n",
    "\n",
    "#remove last years\n",
    "#println(findall(SciOutput[IndexYear].>IN_YearUpperLimit))\n",
    "if IN_YearUpperLimit<int(min(SciOutput[IndexYear])):\n",
    "    IN_YearUpperLimit = int(min(SciOutput[IndexYear]))\n",
    "\n",
    "SciOutput = SciOutput[SciOutput[IndexYear]<=IN_YearUpperLimit]\n",
    "#print(SciOutput)\n",
    "\n",
    "SciOutputLast5 = SciOutput[SciOutput[IndexYear]>=IN_YearUpperLimit-5]  #Output of past 5 years\n",
    "#print(SciOutputLast5)\n",
    "if takeOlderThanOne:\n",
    "    SciOutputOlder1 = SciOutput[SciOutput[IndexYear]<=IN_YearUpperLimit-1]  #Output older than one year (only if current year is included)\n",
    "else:\n",
    "    SciOutputOlder1 = SciOutput[SciOutput[IndexYear]<=IN_YearUpperLimit]  #Output older than one year (only if current year is included)\n",
    "\n",
    "startYear               = int(min(SciOutput[IndexYear]))\n",
    "endYear                 = int(max(SciOutput[IndexYear]))\n",
    "if IN_YearUpperLimit<endYear:\n",
    "    endYear             = IN_YearUpperLimit\n",
    "\n",
    "numberYears             = int(endYear-startYear+1)\n",
    "\n",
    "## Initialising\n",
    "arraySize1 = (numberYears+1,1)\n",
    "Years = np.zeros(arraySize1)\n",
    "SumPeerReviewPaper  = np.zeros(arraySize1)\n",
    "SumPrePrintPaper    = np.zeros(arraySize1)\n",
    "SumBlogPost         = np.zeros(arraySize1)\n",
    "SumNewsViews        = np.zeros(arraySize1)\n",
    "SumSoftware         = np.zeros(arraySize1)\n",
    "SumWebsites         = np.zeros(arraySize1)\n",
    "SumCitations        = np.zeros(arraySize1)\n",
    "SumCitationsPRP     = np.zeros(arraySize1)\n",
    "SumCitationsPRPperYr = np.zeros(arraySize1)\n",
    "SumCitationsCS      = np.zeros(arraySize1)\n",
    "\n",
    "SumPeerReviewPaperFA  = np.zeros(arraySize1)\n",
    "SumPrePrintPaperFA    = np.zeros(arraySize1)\n",
    "SumBlogPostFA         = np.zeros(arraySize1)\n",
    "SumNewsViewsFA        = np.zeros(arraySize1)\n",
    "SumSoftwareFA         = np.zeros(arraySize1)\n",
    "SumWebsitesFA         = np.zeros(arraySize1)\n",
    "SumCitationsFA        = np.zeros(arraySize1)\n",
    "\n",
    "SumPeerReviewPaperSV  = np.zeros(arraySize1)\n",
    "SumPrePrintPaperSV    = np.zeros(arraySize1)\n",
    "SumBlogPostSV         = np.zeros(arraySize1)\n",
    "SumNewsViewsSV        = np.zeros(arraySize1)\n",
    "SumSoftwareSV         = np.zeros(arraySize1)\n",
    "SumWebsitesSV         = np.zeros(arraySize1)\n",
    "\n",
    "SumPeerReviewPaperIND  = np.zeros(arraySize1)\n",
    "SumPrePrintPaperIND    = np.zeros(arraySize1)\n",
    "SumBlogPostIND         = np.zeros(arraySize1)\n",
    "SumNewsViewsIND        = np.zeros(arraySize1)\n",
    "SumSoftwareIND         = np.zeros(arraySize1)\n",
    "SumWebsitesIND         = np.zeros(arraySize1)\n",
    "SumCitationsIND        = np.zeros(arraySize1)\n",
    "\n",
    "SumPeerReviewPaperOA  = np.zeros(arraySize1)\n",
    "SumPrePrintPaperOA    = np.zeros(arraySize1)\n",
    "SumBlogPostOA         = np.zeros(arraySize1)\n",
    "SumNewsViewsOA        = np.zeros(arraySize1)\n",
    "SumSoftwareOA         = np.zeros(arraySize1)\n",
    "SumWebsitesOA         = np.zeros(arraySize1)\n",
    "SumCitationsOA        = np.zeros(arraySize1)\n",
    "\n",
    "\n",
    "\n",
    "LastLoop = False\n",
    "for iYears in range(1,numberYears+1+1):\n",
    "    #print(iYears)\n",
    "    if iYears==numberYears+1: # Total numbers\n",
    "        LastLoop = True\n",
    "        M               = SciOutput\n",
    "        Mlast5          = SciOutputLast5\n",
    "        Molder1         = SciOutputOlder1\n",
    "    else: # Yearly numbers\n",
    "        M               = SciOutput[SciOutput[IndexYear]==startYear+iYears-1]\n",
    "        Molder1       \t= SciOutputOlder1[SciOutputOlder1[IndexYear]==startYear+iYears-1]\n",
    "\n",
    "    YearOfLoop          = startYear+iYears-1\n",
    "    YearsSince          = CurrentYear-YearOfLoop\n",
    "    SciOutputFA       \t= SciOutput[SciOutput[IndexFirstAuthored]==1] #First-authored\n",
    "    SciOutputIND       \t= SciOutput[SciOutput[IndexWithPhDsupervisor]==0] #independent of PhD supervisor\n",
    "\n",
    "    M_FA                = M[M[IndexFirstAuthored]==1]\n",
    "    M_SV                = M[M[IndexWithPhDsupervisor]==1]\n",
    "    M_IND             \t= M[M[IndexWithPhDsupervisor]==0] #independent of PhD supervisor\n",
    "    M_OA                = M[M[IndexOpenAccess]==1] #Open accessible\n",
    "    if M.empty: #isempty(M):\n",
    "        M_PRP        \t= M\n",
    "    else:\n",
    "        M_PRP           = M[M[IndexKind].str.contains('Peer-reviewed paper')] #Peer-reviewed paper\n",
    "        #M_PRP        \t= M[findall(x -> occursin(\"Peer-reviewed paper\",x),M[:,IndexKind]),:] #Peer-reviewed paper\n",
    "    #print(M_PRP)\n",
    "    if M.empty: #isempty(M):\n",
    "        M_CS        \t= M\n",
    "    else:\n",
    "        M_CS            = M[M[IndexKind].str.contains('Community software')] #software\n",
    "\n",
    "    dummy        = M[IndexKind] #find different kinds\n",
    "    dummyOlder1         = Molder1[IndexKind] #find different kinds of older than 1 year\n",
    "    dummyFA             = M_FA[IndexKind] #find different kinds of first authored output\n",
    "    dummySV             = M_SV[IndexKind] #find different kinds of output including PhD supervisor\n",
    "    dummyIND         \t= M_IND[IndexKind] #find different kinds of output excluding PhD supervisor\n",
    "    dummyOA             = M_OA[IndexKind] #find different kinds of output that is open accessible\n",
    "    CitationsPerOutput          = SciOutput[IndexCurrentCitations]\n",
    "    CitationsPerOutputFA        = SciOutputFA[IndexCurrentCitations]\n",
    "    CitationsPerOutputIND       = SciOutputIND[IndexCurrentCitations]\n",
    "\n",
    "    CitationsPerOutputAndYear \t= SciOutput[IndexCurrentCitations]/(CurrentYear-SciOutput[IndexYear])\n",
    "    #[CitationsPerOutputAndYearSorted,ind]   = sort(CitationsPerOutputAndYear,'descend')\n",
    "    # if IN.ShowTitleInRanking\n",
    "    #     MostImpactfulItems  = strcat( '{\\bf{\\fontsize{',num2str(FontSizeDetail+3),'}',SciOutput(ind,IndexTag),{'}}, '},SciOutput(ind,IndexTitle),{', {\\it'},SciOutput(ind,IndexPublisher),'}' )\n",
    "    # else\n",
    "    #     MostImpactfulItems  = strcat( '{\\bf{\\fontsize{',num2str(FontSizeDetail+3),'}',SciOutput(ind,IndexTag),{'}}, {\\it'},SciOutput(ind,IndexPublisher),'}' )\n",
    "    # end\n",
    "\n",
    "    if M.empty: #isempty(M):\n",
    "        countC  = 0\n",
    "    else:\n",
    "        countC = 0\n",
    "        A = M[IndexCurrentCitations]\n",
    "        #print(\"here: \",A,sum(A))\n",
    "        countC = sum(A)\n",
    "        #for k in range(1,len(A)+1):\n",
    "        #    countC = countC + A.iloc[k]\n",
    "\n",
    "    if M_FA.empty: #isempty(M_FA):\n",
    "        countCFA  = 0\n",
    "    else:\n",
    "        countCFA = 0\n",
    "        A = M_FA[IndexCurrentCitations]\n",
    "        countCFA = sum(A)\n",
    "        #for k in range(1,len(A)+1):\n",
    "        #    countCFA = countCFA + A.iloc[k]\n",
    "\n",
    "    if M_IND.empty: #isempty(M_IND):\n",
    "        countCIND  = 0\n",
    "    else:\n",
    "        countCIND = 0\n",
    "        A = M_IND[IndexCurrentCitations]\n",
    "        countCIND = sum(A)\n",
    "        #for k in range(1,len(A)+1):\n",
    "        #    countCIND = countCIND + A.iloc[k]\n",
    "\n",
    "    if M_PRP.empty: #isempty(M_PRP):\n",
    "        countCPRP  = 0\n",
    "    else:\n",
    "        countCPRP = 0\n",
    "        A = M_PRP[IndexCurrentCitations]\n",
    "        countCPRP = sum(A)\n",
    "        #for k in range(1,len(A)+1):\n",
    "        #    countCPRP = countCPRP + A.iloc[k]\n",
    "\n",
    "    if M_CS.empty: #isempty(M_CS):\n",
    "        countCS  = 0\n",
    "    else:\n",
    "        countCS = 0\n",
    "        A = M_CS[IndexCurrentCitations]\n",
    "        countCS = sum(A)\n",
    "        #for k in range(1,len(A)+1):\n",
    "        #    countCS = countCS + A.iloc[k]\n",
    "\n",
    "    if M_OA.empty: #isempty(M_OA):\n",
    "        countOA  = 0\n",
    "    else:\n",
    "        countOA = 0\n",
    "        A = M_OA[IndexCurrentCitations]\n",
    "        countCOA = sum(A)\n",
    "        #for k in range(1,len(A)+1):\n",
    "        #    countOA = countOA + A.iloc[k]\n",
    "\n",
    "    if LastLoop:\n",
    "        TotalSumOutput              = np.size(M,0)\n",
    "        TotalSumOutputPast5         = np.size(Mlast5,0)\n",
    "        TotalSumOutputOA          \t= np.size(M_OA,0)\n",
    "        M_OApast5                   = Mlast5[Mlast5[IndexOpenAccess]==1] #Open accessible\n",
    "        TotalSumOutputOAPast5   \t= np.size(M_OApast5,0)\n",
    "\n",
    "        M_CS            = M[M[IndexKind].str.contains('Community software')] #software\n",
    "\n",
    "        TotalSumPeerReviewPaper     = np.size(dummy[dummy.str.contains('Peer-reviewed paper')],0) #size(findall(x -> occursin(\"Peer-reviewed paper\",x),dummy),1)\n",
    "        print(\"Total sum peer-review papers: \",TotalSumPeerReviewPaper)\n",
    "        TotalSumPeerReviewPaperOlder1 = np.size(dummyOlder1[dummyOlder1.str.contains('Peer-reviewed paper')],0)\n",
    "        TotalSumPrePrintPaper       = np.size(dummy[dummy.str.contains('Pre-print paper')],0)\n",
    "        TotalSumBlogPost            = np.size(dummy[dummy.str.contains('Blog post')],0)\n",
    "        TotalSumNewsViews           = np.size(dummy[dummy.str.contains('News & Views')],0)\n",
    "        TotalSumSoftware            = np.size(dummy[dummy.str.contains('Community software')],0)\n",
    "        TotalSumWebsites            = np.size(dummy[dummy.str.contains('Community website')],0)\n",
    "        TotalSumCitations           = sum(SumCitations)\n",
    "        TotalSumCitationsFA         = sum(SumCitationsFA)\n",
    "        TotalSumCitationsIND        = sum(SumCitationsIND)\n",
    "        TotalSumCitationsPRP     \t= sum(SumCitationsPRP)\n",
    "        TotalSumCitationsPRPperYr \t= sum(SumCitationsPRPperYr)\n",
    "        TotalSumCitationsPRPperYrOlder1 \t= sum(SumCitationsPRPperYr[1:-2])\n",
    "        TotalSumCitationsPRPperYrAndPaper   = TotalSumCitationsPRPperYr/TotalSumPeerReviewPaper\n",
    "        if takeOlderThanOne: #remove one year only if diagnostics are taken until this year\n",
    "            if TotalSumPeerReviewPaperOlder1==0:\n",
    "                TotalSumCitationsPRPperYrAndPaperOlder1 = 0\n",
    "            else:\n",
    "                TotalSumCitationsPRPperYrAndPaperOlder1 = TotalSumCitationsPRPperYrOlder1/TotalSumPeerReviewPaperOlder1\n",
    "        else:\n",
    "            TotalSumCitationsPRPperYrAndPaperOlder1   = TotalSumCitationsPRPperYrAndPaper\n",
    "\n",
    "        TotalSumCitationsCS     \t= sum(SumCitationsCS)\n",
    "        TotalSumCitationsOA     \t= sum(SumCitationsOA)\n",
    "    else:\n",
    "        Years[iYears]               = startYear+iYears-1\n",
    "\n",
    "        SumPeerReviewPaper[iYears]  = np.size(dummy[dummy.str.contains('Peer-reviewed paper')],0)\n",
    "        SumPrePrintPaper[iYears]    = np.size(dummy[dummy.str.contains('Pre-print paper')],0)\n",
    "        SumBlogPost[iYears]         = np.size(dummy[dummy.str.contains('Blog post')],0)\n",
    "        SumNewsViews[iYears]        = np.size(dummy[dummy.str.contains('News & Views')],0)\n",
    "        SumSoftware[iYears]         = np.size(dummy[dummy.str.contains('Community software')],0)\n",
    "        SumWebsites[iYears]         = np.size(dummy[dummy.str.contains('Community website')],0)\n",
    "        SumCitations[iYears]        = countC\n",
    "        SumCitationsPRP[iYears]     = countCPRP\n",
    "        SumCitationsPRPperYr[iYears]= countCPRP/(max(1,YearsSince))\n",
    "        SumCitationsCS[iYears]      = countCS\n",
    "        #First authored\n",
    "        SumPeerReviewPaperFA[iYears]  = np.size(dummyFA[dummyFA.str.contains('Peer-reviewed paper')],0)\n",
    "        SumPrePrintPaperFA[iYears]    = np.size(dummyFA[dummyFA.str.contains('Pre-print paper')],0)\n",
    "        SumBlogPostFA[iYears]         = np.size(dummyFA[dummyFA.str.contains('Blog post')],0)\n",
    "        SumNewsViewsFA[iYears]        = np.size(dummyFA[dummyFA.str.contains('News & Views')],0)\n",
    "        SumSoftwareFA[iYears]         = np.size(dummyFA[dummyFA.str.contains('Community software')],0)\n",
    "        SumWebsitesFA[iYears]         = np.size(dummyFA[dummyFA.str.contains('Community website')],0)\n",
    "        SumCitationsFA[iYears]      = countCFA\n",
    "        #Including PhD supervisor\n",
    "        SumPeerReviewPaperSV[iYears]  = np.size(dummySV[dummySV.str.contains('Peer-reviewed paper')],0)\n",
    "        SumPrePrintPaperSV[iYears]    = np.size(dummySV[dummySV.str.contains('Pre-print paper')],0)\n",
    "        SumBlogPostSV[iYears]         = np.size(dummySV[dummySV.str.contains('Blog post')],0)\n",
    "        SumNewsViewsSV[iYears]        = np.size(dummySV[dummySV.str.contains('News & Views')],0)\n",
    "        SumSoftwareSV[iYears]         = np.size(dummySV[dummySV.str.contains('Community software')],0)\n",
    "        SumWebsitesSV[iYears]         = np.size(dummySV[dummySV.str.contains('Community website')],0)\n",
    "        #Excluding PhD supervisor\n",
    "        SumPeerReviewPaperIND[iYears]  = np.size(dummyIND[dummyIND.str.contains('Peer-reviewed paper')],0)\n",
    "        SumPrePrintPaperIND[iYears]    = np.size(dummyIND[dummyIND.str.contains('Pre-print paper')],0)\n",
    "        SumBlogPostIND[iYears]         = np.size(dummyIND[dummyIND.str.contains('Blog post')],0)\n",
    "        SumNewsViewsIND[iYears]        = np.size(dummyIND[dummyIND.str.contains('News & Views')],0)\n",
    "        SumSoftwareIND[iYears]         = np.size(dummyIND[dummyIND.str.contains('Community software')],0)\n",
    "        SumWebsitesIND[iYears]         = np.size(dummyIND[dummyIND.str.contains('Community website')],0)\n",
    "        SumCitationsIND[iYears]      = countCIND\n",
    "        #Openly accessible\n",
    "        SumPeerReviewPaperOA[iYears]  = np.size(dummyOA[dummyOA.str.contains('Peer-reviewed paper')],0)\n",
    "        SumPrePrintPaperOA[iYears]    = np.size(dummyOA[dummyOA.str.contains('Pre-print paper')],0)\n",
    "        SumBlogPostOA[iYears]         = np.size(dummyOA[dummyOA.str.contains('Blog post')],0)\n",
    "        SumNewsViewsOA[iYears]        = np.size(dummyOA[dummyOA.str.contains('News & Views')],0)\n",
    "        SumSoftwareOA[iYears]         = np.size(dummyOA[dummyOA.str.contains('Community software')],0)\n",
    "        SumWebsitesOA[iYears]         = np.size(dummyOA[dummyOA.str.contains('Community website')],0)\n",
    "        SumCitationsOA[iYears]      = countOA\n"
   ]
  },
  {
   "cell_type": "code",
   "execution_count": 3,
   "id": "b08ef142-0246-4660-9094-23598598f0b8",
   "metadata": {
    "tags": []
   },
   "outputs": [
    {
     "name": "stdout",
     "output_type": "stream",
     "text": [
      "\n",
      "-> Independent citations exceeds axis limit.\n",
      "\n",
      "[10.03805916] 79.16666666666667 [19.9092456] [94.89506523] [63.01758366] 16\n",
      "10.038059163059163 79.16666666666667 19.90924560408395 94.89506522972206 63.017583664208736 16\n",
      "\n",
      "Fabio Crameri\n",
      "13-Aug-2025\n",
      "\n",
      "Impact :  10.0\n",
      "Openness :  79.2\n",
      "Wider contribution :  19.9\n",
      "Self-reliance :  94.9\n",
      "Autonomy :  63.0\n",
      "Achievements :  16.0\n"
     ]
    },
    {
     "data": {
      "application/vnd.plotly.v1+json": {
       "config": {
        "plotlyServerURL": "https://plot.ly"
       },
       "data": [
        {
         "fill": "none",
         "mode": "text",
         "name": "angular categories",
         "r": [
          0.5019029581529582,
          0.7916666666666667,
          0.796369824163358,
          0.9489506522972206,
          1.2603516732841746,
          0.5333333333333333,
          0.5019029581529582
         ],
         "theta": [
          "<b>Impact</b>",
          "<b>Openness</b>",
          "<b>Wider contribution</b>",
          "<b>Self-reliance</b>",
          "<b>Autonomy</b>",
          "<b>Achievements</b>",
          "<b>Impact</b>"
         ],
         "type": "scatterpolar"
        },
        {
         "fill": "none",
         "line": {
          "width": 2
         },
         "marker": {
          "color": "rgb(228,169,161)",
          "size": 0
         },
         "mode": "lines",
         "name": "Product A",
         "opacity": 1,
         "r": [
          0,
          0,
          0,
          0,
          0,
          0,
          0
         ],
         "theta": [
          "<b>Impact</b>",
          "<b>Openness</b>",
          "<b>Wider contribution</b>",
          "<b>Self-reliance</b>",
          "<b>Autonomy</b>",
          "<b>Achievements</b>",
          "<b>Impact</b>"
         ],
         "type": "scatterpolar"
        },
        {
         "fill": "none",
         "line": {
          "width": 2
         },
         "marker": {
          "color": "rgb(228,169,161)",
          "size": 0
         },
         "mode": "lines",
         "name": "Product A",
         "opacity": 1,
         "r": [
          0.2,
          0.2,
          0.2,
          0.2,
          0.2,
          0.2,
          0.2
         ],
         "theta": [
          "<b>Impact</b>",
          "<b>Openness</b>",
          "<b>Wider contribution</b>",
          "<b>Self-reliance</b>",
          "<b>Autonomy</b>",
          "<b>Achievements</b>",
          "<b>Impact</b>"
         ],
         "type": "scatterpolar"
        },
        {
         "fill": "none",
         "line": {
          "width": 2
         },
         "marker": {
          "color": "rgb(228,169,161)",
          "size": 0
         },
         "mode": "lines",
         "name": "Product A",
         "opacity": 1,
         "r": [
          0.4,
          0.4,
          0.4,
          0.4,
          0.4,
          0.4,
          0.4
         ],
         "theta": [
          "<b>Impact</b>",
          "<b>Openness</b>",
          "<b>Wider contribution</b>",
          "<b>Self-reliance</b>",
          "<b>Autonomy</b>",
          "<b>Achievements</b>",
          "<b>Impact</b>"
         ],
         "type": "scatterpolar"
        },
        {
         "fill": "none",
         "line": {
          "width": 2
         },
         "marker": {
          "color": "rgb(228,169,161)",
          "size": 0
         },
         "mode": "lines",
         "name": "Product A",
         "opacity": 1,
         "r": [
          0.6000000000000001,
          0.6000000000000001,
          0.6000000000000001,
          0.6000000000000001,
          0.6000000000000001,
          0.6000000000000001,
          0.6000000000000001
         ],
         "theta": [
          "<b>Impact</b>",
          "<b>Openness</b>",
          "<b>Wider contribution</b>",
          "<b>Self-reliance</b>",
          "<b>Autonomy</b>",
          "<b>Achievements</b>",
          "<b>Impact</b>"
         ],
         "type": "scatterpolar"
        },
        {
         "fill": "none",
         "line": {
          "width": 2
         },
         "marker": {
          "color": "rgb(228,169,161)",
          "size": 0
         },
         "mode": "lines",
         "name": "Product A",
         "opacity": 1,
         "r": [
          0.8,
          0.8,
          0.8,
          0.8,
          0.8,
          0.8,
          0.8
         ],
         "theta": [
          "<b>Impact</b>",
          "<b>Openness</b>",
          "<b>Wider contribution</b>",
          "<b>Self-reliance</b>",
          "<b>Autonomy</b>",
          "<b>Achievements</b>",
          "<b>Impact</b>"
         ],
         "type": "scatterpolar"
        },
        {
         "fill": "none",
         "line": {
          "width": 2
         },
         "marker": {
          "color": "rgb(228,169,161)",
          "size": 0
         },
         "mode": "lines",
         "name": "Product A",
         "opacity": 1,
         "r": [
          1,
          1,
          1,
          1,
          1,
          1,
          1
         ],
         "theta": [
          "<b>Impact</b>",
          "<b>Openness</b>",
          "<b>Wider contribution</b>",
          "<b>Self-reliance</b>",
          "<b>Autonomy</b>",
          "<b>Achievements</b>",
          "<b>Impact</b>"
         ],
         "type": "scatterpolar"
        },
        {
         "fill": "none",
         "line": {
          "width": 14
         },
         "marker": {
          "color": "rgb(255,220.0,212.0)",
          "size": 10
         },
         "mode": "lines",
         "name": "Product A",
         "opacity": 1,
         "r": [
          -0.2,
          1.1
         ],
         "theta": [
          "<b>Impact</b>",
          "<b>Impact</b>"
         ],
         "type": "scatterpolar"
        },
        {
         "fill": "none",
         "line": {
          "width": 14
         },
         "marker": {
          "color": "rgb(255,220.0,212.0)",
          "size": 10
         },
         "mode": "lines",
         "name": "Product A",
         "opacity": 1,
         "r": [
          -0.2,
          1.1
         ],
         "theta": [
          "<b>Openness</b>",
          "<b>Openness</b>"
         ],
         "type": "scatterpolar"
        },
        {
         "fill": "none",
         "line": {
          "width": 14
         },
         "marker": {
          "color": "rgb(255,220.0,212.0)",
          "size": 10
         },
         "mode": "lines",
         "name": "Product A",
         "opacity": 1,
         "r": [
          -0.2,
          1.1
         ],
         "theta": [
          "<b>Wider contribution</b>",
          "<b>Wider contribution</b>"
         ],
         "type": "scatterpolar"
        },
        {
         "fill": "none",
         "line": {
          "width": 14
         },
         "marker": {
          "color": "rgb(255,220.0,212.0)",
          "size": 10
         },
         "mode": "lines",
         "name": "Product A",
         "opacity": 1,
         "r": [
          -0.2,
          1.1
         ],
         "theta": [
          "<b>Self-reliance</b>",
          "<b>Self-reliance</b>"
         ],
         "type": "scatterpolar"
        },
        {
         "fill": "none",
         "line": {
          "width": 14
         },
         "marker": {
          "color": "rgb(255,220.0,212.0)",
          "size": 10
         },
         "mode": "lines",
         "name": "Product A",
         "opacity": 1,
         "r": [
          -0.2,
          1.1
         ],
         "theta": [
          "<b>Autonomy</b>",
          "<b>Autonomy</b>"
         ],
         "type": "scatterpolar"
        },
        {
         "fill": "none",
         "line": {
          "width": 14
         },
         "marker": {
          "color": "rgb(255,220.0,212.0)",
          "size": 10
         },
         "mode": "lines",
         "name": "Product A",
         "opacity": 1,
         "r": [
          -0.2,
          1.1
         ],
         "theta": [
          "<b>Achievements</b>",
          "<b>Achievements</b>"
         ],
         "type": "scatterpolar"
        },
        {
         "fill": "none",
         "line": {
          "width": 14
         },
         "marker": {
          "color": "rgb(255,220.0,212.0)",
          "size": 10
         },
         "mode": "lines",
         "name": "Product A",
         "opacity": 1,
         "r": [
          -0.2,
          1.1
         ],
         "theta": [
          "<b>Impact</b>",
          "<b>Impact</b>"
         ],
         "type": "scatterpolar"
        },
        {
         "fill": "toself",
         "line": {
          "width": 7
         },
         "marker": {
          "color": "rgb(36,70,95)",
          "size": 28
         },
         "mode": "lines+markers",
         "name": "Product A",
         "opacity": 1,
         "r": [
          0.5019029581529582,
          0.7916666666666667,
          0.796369824163358,
          0.9489506522972206,
          1,
          0.5333333333333333,
          0.5019029581529582
         ],
         "theta": [
          "<b>Impact</b>",
          "<b>Openness</b>",
          "<b>Wider contribution</b>",
          "<b>Self-reliance</b>",
          "<b>Autonomy</b>",
          "<b>Achievements</b>",
          "<b>Impact</b>"
         ],
         "type": "scatterpolar"
        },
        {
         "fill": "toself",
         "line": {
          "width": 7
         },
         "marker": {
          "color": "rgb(36,70,95)",
          "size": 28
         },
         "mode": "lines+markers",
         "name": "Product A",
         "opacity": 1,
         "r": [
          0.5019029581529582,
          0.7916666666666667,
          0.796369824163358,
          0.9489506522972206,
          1,
          0.5333333333333333,
          0.5019029581529582
         ],
         "theta": [
          "<b>Impact</b>",
          "<b>Openness</b>",
          "<b>Wider contribution</b>",
          "<b>Self-reliance</b>",
          "<b>Autonomy</b>",
          "<b>Achievements</b>",
          "<b>Impact</b>"
         ],
         "type": "scatterpolar"
        },
        {
         "line": {
          "width": 0
         },
         "marker": {
          "color": "black",
          "size": 0
         },
         "mode": "text",
         "name": "Value Text",
         "r": [
          0.5019029581529582,
          0.7916666666666667,
          0.796369824163358,
          0.9489506522972206,
          1,
          0.5333333333333333,
          0.5019029581529582
         ],
         "text": [
          "<b>10</b>",
          "<b>79</b>",
          "<b>20</b>",
          "<b>95</b>",
          "<b>max</b>",
          "<b>16</b>",
          "<b>10</b>"
         ],
         "textfont": {
          "color": "rgb(228,169,161)",
          "size": 12
         },
         "textposition": "middle center",
         "theta": [
          "<b>Impact</b>",
          "<b>Openness</b>",
          "<b>Wider contribution</b>",
          "<b>Self-reliance</b>",
          "<b>Autonomy</b>",
          "<b>Achievements</b>",
          "<b>Impact</b>"
         ],
         "type": "scatterpolar"
        },
        {
         "line": {
          "width": 0
         },
         "marker": {
          "color": "black",
          "size": 0
         },
         "mode": "text",
         "name": "Axis Text",
         "r": [
          0
         ],
         "text": "<b>0</b>",
         "textfont": {
          "color": "rgb(228,169,161)",
          "size": 8
         },
         "textposition": "middle center",
         "theta": [
          "<b>Impact</b>"
         ],
         "type": "scatterpolar"
        },
        {
         "line": {
          "width": 0
         },
         "marker": {
          "color": "black",
          "size": 0
         },
         "mode": "text",
         "name": "Axis Text",
         "r": [
          0.2
         ],
         "text": "<b>4</b>",
         "textfont": {
          "color": "rgb(228,169,161)",
          "size": 8
         },
         "textposition": "middle center",
         "theta": [
          "<b>Impact</b>"
         ],
         "type": "scatterpolar"
        },
        {
         "line": {
          "width": 0
         },
         "marker": {
          "color": "black",
          "size": 0
         },
         "mode": "text",
         "name": "Axis Text",
         "r": [
          0.8
         ],
         "text": "<b>16</b>",
         "textfont": {
          "color": "rgb(228,169,161)",
          "size": 8
         },
         "textposition": "middle center",
         "theta": [
          "<b>Impact</b>"
         ],
         "type": "scatterpolar"
        },
        {
         "line": {
          "width": 0
         },
         "marker": {
          "color": "black",
          "size": 0
         },
         "mode": "text",
         "name": "Axis Text",
         "r": [
          1
         ],
         "text": "<b>20</b>",
         "textfont": {
          "color": "rgb(228,169,161)",
          "size": 8
         },
         "textposition": "middle center",
         "theta": [
          "<b>Impact</b>"
         ],
         "type": "scatterpolar"
        },
        {
         "line": {
          "width": 0
         },
         "marker": {
          "color": "black",
          "size": 0
         },
         "mode": "text",
         "name": "Axis Text",
         "r": [
          0
         ],
         "text": "<b>0</b>",
         "textfont": {
          "color": "rgb(228,169,161)",
          "size": 8
         },
         "textposition": "middle center",
         "theta": [
          "<b>Openness</b>"
         ],
         "type": "scatterpolar"
        },
        {
         "line": {
          "width": 0
         },
         "marker": {
          "color": "black",
          "size": 0
         },
         "mode": "text",
         "name": "Axis Text",
         "r": [
          0.2
         ],
         "text": "<b>20</b>",
         "textfont": {
          "color": "rgb(228,169,161)",
          "size": 8
         },
         "textposition": "middle center",
         "theta": [
          "<b>Openness</b>"
         ],
         "type": "scatterpolar"
        },
        {
         "line": {
          "width": 0
         },
         "marker": {
          "color": "black",
          "size": 0
         },
         "mode": "text",
         "name": "Axis Text",
         "r": [
          0.4
         ],
         "text": "<b>40</b>",
         "textfont": {
          "color": "rgb(228,169,161)",
          "size": 8
         },
         "textposition": "middle center",
         "theta": [
          "<b>Openness</b>"
         ],
         "type": "scatterpolar"
        },
        {
         "line": {
          "width": 0
         },
         "marker": {
          "color": "black",
          "size": 0
         },
         "mode": "text",
         "name": "Axis Text",
         "r": [
          0.6000000000000001
         ],
         "text": "<b>60</b>",
         "textfont": {
          "color": "rgb(228,169,161)",
          "size": 8
         },
         "textposition": "middle center",
         "theta": [
          "<b>Openness</b>"
         ],
         "type": "scatterpolar"
        },
        {
         "line": {
          "width": 0
         },
         "marker": {
          "color": "black",
          "size": 0
         },
         "mode": "text",
         "name": "Axis Text",
         "r": [
          1
         ],
         "text": "<b>100</b>",
         "textfont": {
          "color": "rgb(228,169,161)",
          "size": 8
         },
         "textposition": "middle center",
         "theta": [
          "<b>Openness</b>"
         ],
         "type": "scatterpolar"
        },
        {
         "line": {
          "width": 0
         },
         "marker": {
          "color": "black",
          "size": 0
         },
         "mode": "text",
         "name": "Axis Text",
         "r": [
          0
         ],
         "text": "<b>0</b>",
         "textfont": {
          "color": "rgb(228,169,161)",
          "size": 8
         },
         "textposition": "middle center",
         "theta": [
          "<b>Wider contribution</b>"
         ],
         "type": "scatterpolar"
        },
        {
         "line": {
          "width": 0
         },
         "marker": {
          "color": "black",
          "size": 0
         },
         "mode": "text",
         "name": "Axis Text",
         "r": [
          0.2
         ],
         "text": "<b>5</b>",
         "textfont": {
          "color": "rgb(228,169,161)",
          "size": 8
         },
         "textposition": "middle center",
         "theta": [
          "<b>Wider contribution</b>"
         ],
         "type": "scatterpolar"
        },
        {
         "line": {
          "width": 0
         },
         "marker": {
          "color": "black",
          "size": 0
         },
         "mode": "text",
         "name": "Axis Text",
         "r": [
          0.4
         ],
         "text": "<b>10</b>",
         "textfont": {
          "color": "rgb(228,169,161)",
          "size": 8
         },
         "textposition": "middle center",
         "theta": [
          "<b>Wider contribution</b>"
         ],
         "type": "scatterpolar"
        },
        {
         "line": {
          "width": 0
         },
         "marker": {
          "color": "black",
          "size": 0
         },
         "mode": "text",
         "name": "Axis Text",
         "r": [
          0.6000000000000001
         ],
         "text": "<b>15</b>",
         "textfont": {
          "color": "rgb(228,169,161)",
          "size": 8
         },
         "textposition": "middle center",
         "theta": [
          "<b>Wider contribution</b>"
         ],
         "type": "scatterpolar"
        },
        {
         "line": {
          "width": 0
         },
         "marker": {
          "color": "black",
          "size": 0
         },
         "mode": "text",
         "name": "Axis Text",
         "r": [
          1
         ],
         "text": "<b>25</b>",
         "textfont": {
          "color": "rgb(228,169,161)",
          "size": 8
         },
         "textposition": "middle center",
         "theta": [
          "<b>Wider contribution</b>"
         ],
         "type": "scatterpolar"
        },
        {
         "line": {
          "width": 0
         },
         "marker": {
          "color": "black",
          "size": 0
         },
         "mode": "text",
         "name": "Axis Text",
         "r": [
          0
         ],
         "text": "<b>0</b>",
         "textfont": {
          "color": "rgb(228,169,161)",
          "size": 8
         },
         "textposition": "middle center",
         "theta": [
          "<b>Self-reliance</b>"
         ],
         "type": "scatterpolar"
        },
        {
         "line": {
          "width": 0
         },
         "marker": {
          "color": "black",
          "size": 0
         },
         "mode": "text",
         "name": "Axis Text",
         "r": [
          0.2
         ],
         "text": "<b>20</b>",
         "textfont": {
          "color": "rgb(228,169,161)",
          "size": 8
         },
         "textposition": "middle center",
         "theta": [
          "<b>Self-reliance</b>"
         ],
         "type": "scatterpolar"
        },
        {
         "line": {
          "width": 0
         },
         "marker": {
          "color": "black",
          "size": 0
         },
         "mode": "text",
         "name": "Axis Text",
         "r": [
          0.4
         ],
         "text": "<b>40</b>",
         "textfont": {
          "color": "rgb(228,169,161)",
          "size": 8
         },
         "textposition": "middle center",
         "theta": [
          "<b>Self-reliance</b>"
         ],
         "type": "scatterpolar"
        },
        {
         "line": {
          "width": 0
         },
         "marker": {
          "color": "black",
          "size": 0
         },
         "mode": "text",
         "name": "Axis Text",
         "r": [
          0.6000000000000001
         ],
         "text": "<b>60</b>",
         "textfont": {
          "color": "rgb(228,169,161)",
          "size": 8
         },
         "textposition": "middle center",
         "theta": [
          "<b>Self-reliance</b>"
         ],
         "type": "scatterpolar"
        },
        {
         "line": {
          "width": 0
         },
         "marker": {
          "color": "black",
          "size": 0
         },
         "mode": "text",
         "name": "Axis Text",
         "r": [
          0
         ],
         "text": "<b>0</b>",
         "textfont": {
          "color": "rgb(228,169,161)",
          "size": 8
         },
         "textposition": "middle center",
         "theta": [
          "<b>Autonomy</b>"
         ],
         "type": "scatterpolar"
        },
        {
         "line": {
          "width": 0
         },
         "marker": {
          "color": "black",
          "size": 0
         },
         "mode": "text",
         "name": "Axis Text",
         "r": [
          0.2
         ],
         "text": "<b>10</b>",
         "textfont": {
          "color": "rgb(228,169,161)",
          "size": 8
         },
         "textposition": "middle center",
         "theta": [
          "<b>Autonomy</b>"
         ],
         "type": "scatterpolar"
        },
        {
         "line": {
          "width": 0
         },
         "marker": {
          "color": "black",
          "size": 0
         },
         "mode": "text",
         "name": "Axis Text",
         "r": [
          0.4
         ],
         "text": "<b>20</b>",
         "textfont": {
          "color": "rgb(228,169,161)",
          "size": 8
         },
         "textposition": "middle center",
         "theta": [
          "<b>Autonomy</b>"
         ],
         "type": "scatterpolar"
        },
        {
         "line": {
          "width": 0
         },
         "marker": {
          "color": "black",
          "size": 0
         },
         "mode": "text",
         "name": "Axis Text",
         "r": [
          0.6000000000000001
         ],
         "text": "<b>30</b>",
         "textfont": {
          "color": "rgb(228,169,161)",
          "size": 8
         },
         "textposition": "middle center",
         "theta": [
          "<b>Autonomy</b>"
         ],
         "type": "scatterpolar"
        },
        {
         "line": {
          "width": 0
         },
         "marker": {
          "color": "black",
          "size": 0
         },
         "mode": "text",
         "name": "Axis Text",
         "r": [
          0.8
         ],
         "text": "<b>40</b>",
         "textfont": {
          "color": "rgb(228,169,161)",
          "size": 8
         },
         "textposition": "middle center",
         "theta": [
          "<b>Autonomy</b>"
         ],
         "type": "scatterpolar"
        },
        {
         "line": {
          "width": 0
         },
         "marker": {
          "color": "black",
          "size": 0
         },
         "mode": "text",
         "name": "Axis Text",
         "r": [
          0
         ],
         "text": "<b>0</b>",
         "textfont": {
          "color": "rgb(228,169,161)",
          "size": 8
         },
         "textposition": "middle center",
         "theta": [
          "<b>Achievements</b>"
         ],
         "type": "scatterpolar"
        },
        {
         "line": {
          "width": 0
         },
         "marker": {
          "color": "black",
          "size": 0
         },
         "mode": "text",
         "name": "Axis Text",
         "r": [
          0.2
         ],
         "text": "<b>6</b>",
         "textfont": {
          "color": "rgb(228,169,161)",
          "size": 8
         },
         "textposition": "middle center",
         "theta": [
          "<b>Achievements</b>"
         ],
         "type": "scatterpolar"
        },
        {
         "line": {
          "width": 0
         },
         "marker": {
          "color": "black",
          "size": 0
         },
         "mode": "text",
         "name": "Axis Text",
         "r": [
          0.8
         ],
         "text": "<b>24</b>",
         "textfont": {
          "color": "rgb(228,169,161)",
          "size": 8
         },
         "textposition": "middle center",
         "theta": [
          "<b>Achievements</b>"
         ],
         "type": "scatterpolar"
        },
        {
         "line": {
          "width": 0
         },
         "marker": {
          "color": "black",
          "size": 0
         },
         "mode": "text",
         "name": "Axis Text",
         "r": [
          1
         ],
         "text": "<b>30</b>",
         "textfont": {
          "color": "rgb(228,169,161)",
          "size": 8
         },
         "textposition": "middle center",
         "theta": [
          "<b>Achievements</b>"
         ],
         "type": "scatterpolar"
        }
       ],
       "layout": {
        "annotations": [
         {
          "font": {
           "color": "rgb(36,70,95)"
          },
          "opacity": 0.5,
          "showarrow": false,
          "text": "<b>Fabio Crameri</b>",
          "x": 0.253,
          "xanchor": "right",
          "xref": "paper",
          "y": -0.072,
          "yanchor": "bottom",
          "yref": "paper"
         },
         {
          "font": {
           "color": "rgb(36,70,95)"
          },
          "showarrow": false,
          "text": "<b>Crameri</b>",
          "x": 0.253,
          "xanchor": "right",
          "xref": "paper",
          "y": -0.072,
          "yanchor": "bottom",
          "yref": "paper"
         },
         {
          "font": {
           "color": "rgb(228,169,161)"
          },
          "showarrow": false,
          "text": "<b>ProAc </b>1.0",
          "x": 0.253,
          "xanchor": "right",
          "xref": "paper",
          "y": -0.152,
          "yanchor": "bottom",
          "yref": "paper"
         },
         {
          "font": {
           "color": "rgb(36,70,95)"
          },
          "showarrow": false,
          "text": "as of <b>13-Aug-2025</b>",
          "x": 0.747,
          "xanchor": "left",
          "xref": "paper",
          "y": -0.072,
          "yanchor": "bottom",
          "yref": "paper"
         },
         {
          "font": {
           "color": "rgb(255,255,255)"
          },
          "opacity": 0.5,
          "showarrow": false,
          "text": "as of",
          "x": 0.747,
          "xanchor": "left",
          "xref": "paper",
          "y": -0.072,
          "yanchor": "bottom",
          "yref": "paper"
         },
         {
          "font": {
           "color": "rgb(228,169,161)",
           "size": 9
          },
          "showarrow": false,
          "text": "©ProAc Academic Profile 1.0",
          "x": 0.747,
          "xanchor": "left",
          "xref": "paper",
          "y": -0.146,
          "yanchor": "bottom",
          "yref": "paper"
         },
         {
          "font": {
           "color": "rgb(200,200,200)",
           "size": 9
          },
          "showarrow": false,
          "text": "by Undertone.design",
          "x": 0.747,
          "xanchor": "left",
          "xref": "paper",
          "y": -0.186,
          "yanchor": "bottom",
          "yref": "paper"
         },
         {
          "font": {
           "color": "rgb(100.5,41.5,33.5)",
           "size": 9
          },
          "showarrow": false,
          "text": "Annual citations per peer-reviewed publication",
          "x": 0.5,
          "xanchor": "center",
          "xref": "paper",
          "y": 1.07,
          "yanchor": "bottom",
          "yref": "paper"
         },
         {
          "font": {
           "color": "rgb(100.5,41.5,33.5)",
           "size": 9
          },
          "showarrow": false,
          "text": "% of open-access output during past 5 years",
          "x": 0.747,
          "xanchor": "left",
          "xref": "paper",
          "y": 0.8,
          "yanchor": "bottom",
          "yref": "paper"
         },
         {
          "font": {
           "color": "rgb(100.5,41.5,33.5)",
           "size": 9
          },
          "showarrow": false,
          "text": "% of non-peer-reviewed publication citations",
          "x": 0.747,
          "xanchor": "left",
          "xref": "paper",
          "y": 0.18,
          "yanchor": "top",
          "yref": "paper"
         },
         {
          "font": {
           "color": "rgb(100.5,41.5,33.5)",
           "size": 9
          },
          "showarrow": false,
          "text": "% of first-authored citations",
          "x": 0.5,
          "xanchor": "center",
          "xref": "paper",
          "y": -0.08,
          "yanchor": "top",
          "yref": "paper"
         },
         {
          "font": {
           "color": "rgb(100.5,41.5,33.5)",
           "size": 9
          },
          "showarrow": false,
          "text": "% of citations excluding PhD supervisor",
          "x": 0.253,
          "xanchor": "right",
          "xref": "paper",
          "y": 0.18,
          "yanchor": "top",
          "yref": "paper"
         },
         {
          "font": {
           "color": "rgb(100.5,41.5,33.5)",
           "size": 9
          },
          "showarrow": false,
          "text": "Publication output and impact",
          "x": 0.253,
          "xanchor": "right",
          "xref": "paper",
          "y": 0.8,
          "yanchor": "bottom",
          "yref": "paper"
         }
        ],
        "autosize": false,
        "font": {
         "color": "rgb(100.5,41.5,33.5)",
         "family": "Open Sans,Helvetica,sans-serif",
         "size": 18
        },
        "height": 580,
        "margin": {
         "b": 100,
         "l": 80,
         "pad": 5,
         "r": 120,
         "t": 80
        },
        "paper_bgcolor": "rgba(0,0,0,0)",
        "plot_bgcolor": "rgba(0,0,0,0)",
        "polar": {
         "angularaxis": {
          "direction": "clockwise",
          "gridcolor": "rgb(255,220.0,212.0)",
          "gridwidth": 14,
          "rotation": 90,
          "showline": false,
          "visible": true
         },
         "bgcolor": "rgba(0,0,0,0)",
         "radialaxis": {
          "angle": 45,
          "gridcolor": "rgb(228,169,161)",
          "gridwidth": 2,
          "nticks": 8,
          "range": [
           -0.2,
           1.2
          ],
          "showline": false,
          "showticklabels": false,
          "visible": false
         }
        },
        "showlegend": false,
        "template": {
         "data": {
          "bar": [
           {
            "error_x": {
             "color": "#2a3f5f"
            },
            "error_y": {
             "color": "#2a3f5f"
            },
            "marker": {
             "line": {
              "color": "#E5ECF6",
              "width": 0.5
             },
             "pattern": {
              "fillmode": "overlay",
              "size": 10,
              "solidity": 0.2
             }
            },
            "type": "bar"
           }
          ],
          "barpolar": [
           {
            "marker": {
             "line": {
              "color": "#E5ECF6",
              "width": 0.5
             },
             "pattern": {
              "fillmode": "overlay",
              "size": 10,
              "solidity": 0.2
             }
            },
            "type": "barpolar"
           }
          ],
          "carpet": [
           {
            "aaxis": {
             "endlinecolor": "#2a3f5f",
             "gridcolor": "white",
             "linecolor": "white",
             "minorgridcolor": "white",
             "startlinecolor": "#2a3f5f"
            },
            "baxis": {
             "endlinecolor": "#2a3f5f",
             "gridcolor": "white",
             "linecolor": "white",
             "minorgridcolor": "white",
             "startlinecolor": "#2a3f5f"
            },
            "type": "carpet"
           }
          ],
          "choropleth": [
           {
            "colorbar": {
             "outlinewidth": 0,
             "ticks": ""
            },
            "type": "choropleth"
           }
          ],
          "contour": [
           {
            "colorbar": {
             "outlinewidth": 0,
             "ticks": ""
            },
            "colorscale": [
             [
              0,
              "#0d0887"
             ],
             [
              0.1111111111111111,
              "#46039f"
             ],
             [
              0.2222222222222222,
              "#7201a8"
             ],
             [
              0.3333333333333333,
              "#9c179e"
             ],
             [
              0.4444444444444444,
              "#bd3786"
             ],
             [
              0.5555555555555556,
              "#d8576b"
             ],
             [
              0.6666666666666666,
              "#ed7953"
             ],
             [
              0.7777777777777778,
              "#fb9f3a"
             ],
             [
              0.8888888888888888,
              "#fdca26"
             ],
             [
              1,
              "#f0f921"
             ]
            ],
            "type": "contour"
           }
          ],
          "contourcarpet": [
           {
            "colorbar": {
             "outlinewidth": 0,
             "ticks": ""
            },
            "type": "contourcarpet"
           }
          ],
          "heatmap": [
           {
            "colorbar": {
             "outlinewidth": 0,
             "ticks": ""
            },
            "colorscale": [
             [
              0,
              "#0d0887"
             ],
             [
              0.1111111111111111,
              "#46039f"
             ],
             [
              0.2222222222222222,
              "#7201a8"
             ],
             [
              0.3333333333333333,
              "#9c179e"
             ],
             [
              0.4444444444444444,
              "#bd3786"
             ],
             [
              0.5555555555555556,
              "#d8576b"
             ],
             [
              0.6666666666666666,
              "#ed7953"
             ],
             [
              0.7777777777777778,
              "#fb9f3a"
             ],
             [
              0.8888888888888888,
              "#fdca26"
             ],
             [
              1,
              "#f0f921"
             ]
            ],
            "type": "heatmap"
           }
          ],
          "histogram": [
           {
            "marker": {
             "pattern": {
              "fillmode": "overlay",
              "size": 10,
              "solidity": 0.2
             }
            },
            "type": "histogram"
           }
          ],
          "histogram2d": [
           {
            "colorbar": {
             "outlinewidth": 0,
             "ticks": ""
            },
            "colorscale": [
             [
              0,
              "#0d0887"
             ],
             [
              0.1111111111111111,
              "#46039f"
             ],
             [
              0.2222222222222222,
              "#7201a8"
             ],
             [
              0.3333333333333333,
              "#9c179e"
             ],
             [
              0.4444444444444444,
              "#bd3786"
             ],
             [
              0.5555555555555556,
              "#d8576b"
             ],
             [
              0.6666666666666666,
              "#ed7953"
             ],
             [
              0.7777777777777778,
              "#fb9f3a"
             ],
             [
              0.8888888888888888,
              "#fdca26"
             ],
             [
              1,
              "#f0f921"
             ]
            ],
            "type": "histogram2d"
           }
          ],
          "histogram2dcontour": [
           {
            "colorbar": {
             "outlinewidth": 0,
             "ticks": ""
            },
            "colorscale": [
             [
              0,
              "#0d0887"
             ],
             [
              0.1111111111111111,
              "#46039f"
             ],
             [
              0.2222222222222222,
              "#7201a8"
             ],
             [
              0.3333333333333333,
              "#9c179e"
             ],
             [
              0.4444444444444444,
              "#bd3786"
             ],
             [
              0.5555555555555556,
              "#d8576b"
             ],
             [
              0.6666666666666666,
              "#ed7953"
             ],
             [
              0.7777777777777778,
              "#fb9f3a"
             ],
             [
              0.8888888888888888,
              "#fdca26"
             ],
             [
              1,
              "#f0f921"
             ]
            ],
            "type": "histogram2dcontour"
           }
          ],
          "mesh3d": [
           {
            "colorbar": {
             "outlinewidth": 0,
             "ticks": ""
            },
            "type": "mesh3d"
           }
          ],
          "parcoords": [
           {
            "line": {
             "colorbar": {
              "outlinewidth": 0,
              "ticks": ""
             }
            },
            "type": "parcoords"
           }
          ],
          "pie": [
           {
            "automargin": true,
            "type": "pie"
           }
          ],
          "scatter": [
           {
            "fillpattern": {
             "fillmode": "overlay",
             "size": 10,
             "solidity": 0.2
            },
            "type": "scatter"
           }
          ],
          "scatter3d": [
           {
            "line": {
             "colorbar": {
              "outlinewidth": 0,
              "ticks": ""
             }
            },
            "marker": {
             "colorbar": {
              "outlinewidth": 0,
              "ticks": ""
             }
            },
            "type": "scatter3d"
           }
          ],
          "scattercarpet": [
           {
            "marker": {
             "colorbar": {
              "outlinewidth": 0,
              "ticks": ""
             }
            },
            "type": "scattercarpet"
           }
          ],
          "scattergeo": [
           {
            "marker": {
             "colorbar": {
              "outlinewidth": 0,
              "ticks": ""
             }
            },
            "type": "scattergeo"
           }
          ],
          "scattergl": [
           {
            "marker": {
             "colorbar": {
              "outlinewidth": 0,
              "ticks": ""
             }
            },
            "type": "scattergl"
           }
          ],
          "scattermap": [
           {
            "marker": {
             "colorbar": {
              "outlinewidth": 0,
              "ticks": ""
             }
            },
            "type": "scattermap"
           }
          ],
          "scattermapbox": [
           {
            "marker": {
             "colorbar": {
              "outlinewidth": 0,
              "ticks": ""
             }
            },
            "type": "scattermapbox"
           }
          ],
          "scatterpolar": [
           {
            "marker": {
             "colorbar": {
              "outlinewidth": 0,
              "ticks": ""
             }
            },
            "type": "scatterpolar"
           }
          ],
          "scatterpolargl": [
           {
            "marker": {
             "colorbar": {
              "outlinewidth": 0,
              "ticks": ""
             }
            },
            "type": "scatterpolargl"
           }
          ],
          "scatterternary": [
           {
            "marker": {
             "colorbar": {
              "outlinewidth": 0,
              "ticks": ""
             }
            },
            "type": "scatterternary"
           }
          ],
          "surface": [
           {
            "colorbar": {
             "outlinewidth": 0,
             "ticks": ""
            },
            "colorscale": [
             [
              0,
              "#0d0887"
             ],
             [
              0.1111111111111111,
              "#46039f"
             ],
             [
              0.2222222222222222,
              "#7201a8"
             ],
             [
              0.3333333333333333,
              "#9c179e"
             ],
             [
              0.4444444444444444,
              "#bd3786"
             ],
             [
              0.5555555555555556,
              "#d8576b"
             ],
             [
              0.6666666666666666,
              "#ed7953"
             ],
             [
              0.7777777777777778,
              "#fb9f3a"
             ],
             [
              0.8888888888888888,
              "#fdca26"
             ],
             [
              1,
              "#f0f921"
             ]
            ],
            "type": "surface"
           }
          ],
          "table": [
           {
            "cells": {
             "fill": {
              "color": "#EBF0F8"
             },
             "line": {
              "color": "white"
             }
            },
            "header": {
             "fill": {
              "color": "#C8D4E3"
             },
             "line": {
              "color": "white"
             }
            },
            "type": "table"
           }
          ]
         },
         "layout": {
          "annotationdefaults": {
           "arrowcolor": "#2a3f5f",
           "arrowhead": 0,
           "arrowwidth": 1
          },
          "autotypenumbers": "strict",
          "coloraxis": {
           "colorbar": {
            "outlinewidth": 0,
            "ticks": ""
           }
          },
          "colorscale": {
           "diverging": [
            [
             0,
             "#8e0152"
            ],
            [
             0.1,
             "#c51b7d"
            ],
            [
             0.2,
             "#de77ae"
            ],
            [
             0.3,
             "#f1b6da"
            ],
            [
             0.4,
             "#fde0ef"
            ],
            [
             0.5,
             "#f7f7f7"
            ],
            [
             0.6,
             "#e6f5d0"
            ],
            [
             0.7,
             "#b8e186"
            ],
            [
             0.8,
             "#7fbc41"
            ],
            [
             0.9,
             "#4d9221"
            ],
            [
             1,
             "#276419"
            ]
           ],
           "sequential": [
            [
             0,
             "#0d0887"
            ],
            [
             0.1111111111111111,
             "#46039f"
            ],
            [
             0.2222222222222222,
             "#7201a8"
            ],
            [
             0.3333333333333333,
             "#9c179e"
            ],
            [
             0.4444444444444444,
             "#bd3786"
            ],
            [
             0.5555555555555556,
             "#d8576b"
            ],
            [
             0.6666666666666666,
             "#ed7953"
            ],
            [
             0.7777777777777778,
             "#fb9f3a"
            ],
            [
             0.8888888888888888,
             "#fdca26"
            ],
            [
             1,
             "#f0f921"
            ]
           ],
           "sequentialminus": [
            [
             0,
             "#0d0887"
            ],
            [
             0.1111111111111111,
             "#46039f"
            ],
            [
             0.2222222222222222,
             "#7201a8"
            ],
            [
             0.3333333333333333,
             "#9c179e"
            ],
            [
             0.4444444444444444,
             "#bd3786"
            ],
            [
             0.5555555555555556,
             "#d8576b"
            ],
            [
             0.6666666666666666,
             "#ed7953"
            ],
            [
             0.7777777777777778,
             "#fb9f3a"
            ],
            [
             0.8888888888888888,
             "#fdca26"
            ],
            [
             1,
             "#f0f921"
            ]
           ]
          },
          "colorway": [
           "#636efa",
           "#EF553B",
           "#00cc96",
           "#ab63fa",
           "#FFA15A",
           "#19d3f3",
           "#FF6692",
           "#B6E880",
           "#FF97FF",
           "#FECB52"
          ],
          "font": {
           "color": "#2a3f5f"
          },
          "geo": {
           "bgcolor": "white",
           "lakecolor": "white",
           "landcolor": "#E5ECF6",
           "showlakes": true,
           "showland": true,
           "subunitcolor": "white"
          },
          "hoverlabel": {
           "align": "left"
          },
          "hovermode": "closest",
          "mapbox": {
           "style": "light"
          },
          "paper_bgcolor": "white",
          "plot_bgcolor": "#E5ECF6",
          "polar": {
           "angularaxis": {
            "gridcolor": "white",
            "linecolor": "white",
            "ticks": ""
           },
           "bgcolor": "#E5ECF6",
           "radialaxis": {
            "gridcolor": "white",
            "linecolor": "white",
            "ticks": ""
           }
          },
          "scene": {
           "xaxis": {
            "backgroundcolor": "#E5ECF6",
            "gridcolor": "white",
            "gridwidth": 2,
            "linecolor": "white",
            "showbackground": true,
            "ticks": "",
            "zerolinecolor": "white"
           },
           "yaxis": {
            "backgroundcolor": "#E5ECF6",
            "gridcolor": "white",
            "gridwidth": 2,
            "linecolor": "white",
            "showbackground": true,
            "ticks": "",
            "zerolinecolor": "white"
           },
           "zaxis": {
            "backgroundcolor": "#E5ECF6",
            "gridcolor": "white",
            "gridwidth": 2,
            "linecolor": "white",
            "showbackground": true,
            "ticks": "",
            "zerolinecolor": "white"
           }
          },
          "shapedefaults": {
           "line": {
            "color": "#2a3f5f"
           }
          },
          "ternary": {
           "aaxis": {
            "gridcolor": "white",
            "linecolor": "white",
            "ticks": ""
           },
           "baxis": {
            "gridcolor": "white",
            "linecolor": "white",
            "ticks": ""
           },
           "bgcolor": "#E5ECF6",
           "caxis": {
            "gridcolor": "white",
            "linecolor": "white",
            "ticks": ""
           }
          },
          "title": {
           "x": 0.05
          },
          "xaxis": {
           "automargin": true,
           "gridcolor": "white",
           "linecolor": "white",
           "ticks": "",
           "title": {
            "standoff": 15
           },
           "zerolinecolor": "white",
           "zerolinewidth": 2
          },
          "yaxis": {
           "automargin": true,
           "gridcolor": "white",
           "linecolor": "white",
           "ticks": "",
           "title": {
            "standoff": 15
           },
           "zerolinecolor": "white",
           "zerolinewidth": 2
          }
         }
        },
        "width": 900
       }
      },
      "image/png": "[encoded data removed]"
     },
     "metadata": {},
     "output_type": "display_data"
    }
   ],
   "source": [
    "#__________________________________________________________________________\n",
    "## ProAc(U) Profile\n",
    "MinIndAnnCite   = 0\n",
    "MaxIndAnnCite   = 20   #20 citations per publication and year\n",
    "\n",
    "MinIndFACite    = 0\n",
    "MaxIndFACite    = 100  #100# of first-authored citations\n",
    "\n",
    "MinIndCite      = 0\n",
    "MaxIndCite      = 50   #50# of total citations from publications without PhD supervisor\n",
    "\n",
    "MinNonPRPimpact = 0\n",
    "MaxNonPRPimpact = 25   #25# of total citations are from non-peer-reviewed publications\n",
    "\n",
    "MinOAoutput     = 0\n",
    "MaxOAoutput     = 100\t#100# of total publication output is open-access\n",
    "\n",
    "MinHindex       = 0\n",
    "MaxHindex       = 30   #H-index of 50\n",
    "\n",
    "\n",
    "\n",
    "#Derive indices\n",
    "#print(\"Citations per output: \",CitationsPerOutput)\n",
    "SortedCitationsPerPaper     = CitationsPerOutput\n",
    "SortedCitationsPerPaper     = SortedCitationsPerPaper.sort_values(ascending=False,ignore_index=True)\n",
    "SortedCitationsPerPaper.reset_index(inplace=True,drop=True)\n",
    "#print(\"Citations per output sorted: \",SortedCitationsPerPaper[0],SortedCitationsPerPaper[1])\n",
    "\n",
    "#if np.isnan(SortedCitationsPerPaper): #check for nan entries\n",
    "if SortedCitationsPerPaper.isnull().values.any(): #check for nan entries\n",
    "    raise ValueError('NaN entry in citations found: please check your data file!')\n",
    "\n",
    "h_index = 0.0\n",
    "for i in range(len(SortedCitationsPerPaper)):\n",
    "    if SortedCitationsPerPaper[i]>=i+1:\n",
    "        h_index = i+1\n",
    "\n",
    "\n",
    "#INDICES\n",
    "AnnualCitationsPerPRP   = TotalSumCitationsPRPperYrAndPaper\n",
    "\n",
    "if TotalSumCitations==0:\n",
    "    FAcitations         = 0\n",
    "elif TotalSumCitationsFA==0:\n",
    "    FAcitations         = 0\n",
    "else:\n",
    "    FAcitations         = 100/TotalSumCitations*TotalSumCitationsFA\n",
    "\n",
    "if TotalSumCitations==0:\n",
    "    IndependentCitations    = 0\n",
    "elif TotalSumCitationsIND==0:\n",
    "    IndependentCitations    = 0\n",
    "else:\n",
    "    IndependentCitations    = 100/TotalSumCitations*TotalSumCitationsIND\n",
    "\n",
    "if TotalSumCitations==0:\n",
    "    NonPRPimpact        = 0\n",
    "elif TotalSumCitationsPRP==0:\n",
    "    NonPRPimpact        = 0\n",
    "else:\n",
    "    NonPRPimpact        = 100-100/TotalSumCitations*TotalSumCitationsPRP\n",
    "\n",
    "if TotalSumOutputPast5==0:\n",
    "    OpenAccessOutput    = 0\n",
    "elif TotalSumOutputOAPast5==0:\n",
    "    OpenAccessOutput    = 0\n",
    "else:\n",
    "    OpenAccessOutput    = 100/TotalSumOutputPast5*TotalSumOutputOAPast5\n",
    "\n",
    "Hindex                  = h_index\n",
    "\n",
    "\n",
    "#Check for (and avoid problems with) zero values\n",
    "if pd.isna(AnnualCitationsPerPRP): #check for nan entries\n",
    "    AnnualCitationsPerPRP = 0\n",
    "    print(\"AnnualCitationsPerPRP fixed 0 value\")\n",
    "if pd.isna(FAcitations): #check for nan entries\n",
    "    FAcitations = 0\n",
    "    print(\"FAcitations fixed 0 value\")\n",
    "if pd.isna(IndependentCitations): #check for nan entries\n",
    "    IndependentCitations = 0\n",
    "    print(\"IndependentCitations fixed 0 value\")\n",
    "if pd.isna(NonPRPimpact): #check for nan entries\n",
    "    NonPRPimpact = 0\n",
    "    print(\"NonPRPimpact fixed 0 value\")\n",
    "if pd.isna(OpenAccessOutput): #check for nan entries\n",
    "    OpenAccessOutput = 0\n",
    "    print(\"OpenAccessOutput fixed 0 value\")\n",
    "if pd.isna(Hindex): #check for nan entries\n",
    "    Hindex = 0\n",
    "    print(\"Hindex fixed 0 value\")\n",
    "\n",
    "\n",
    "#Check if indices exceed axis limits\n",
    "print(\"\")\n",
    "if AnnualCitationsPerPRP>=MaxIndAnnCite:\n",
    "    #warnings.warn(\"Annual citations per peer-reviewed publication exceed axis limit\")\n",
    "    print(\"-> Annual citations per peer-reviewed publication exceed axis limit.\")\n",
    "    print(\"\")\n",
    "\n",
    "if FAcitations>=MaxIndFACite:\n",
    "    #warnings.warn(\"Fraction of first-authored citations per peer-reviewed publication exceeds axis limit\")\n",
    "    print(\"-> Fraction of first-authored citations per peer-reviewed publication exceeds axis limit.\")\n",
    "    print(\"\")\n",
    "\n",
    "if IndependentCitations>=MaxIndCite:\n",
    "    #warnings.warn(\"Independent citations exceeds axis limit\")\n",
    "    print(\"-> Independent citations exceeds axis limit.\")\n",
    "    print(\"\")\n",
    "\n",
    "\n",
    "    #Tag                    AxesLimits  Label\n",
    "# U1 = {...\n",
    "#     AnnualCitationsPerPRP,  MinIndAnnCite,  MaxIndAnnCite,      {['\\fontsize{',num2str(FontSizeDetail),'}{Annual citations per peer-reviewed publication}'] ['\\fontsize{',num2str(FontSizeLabelsBig),'}{{\\bfImpact}}']}\n",
    "#     OpenAccessOutput,       MinOAoutput,  MaxOAoutput,          {['\\fontsize{',num2str(FontSizeDetail),'}{# of open-access output during past 5 years}'] ['\\fontsize{',num2str(FontSizeLabelsBig),'}{{\\bfOpenness}}']}\n",
    "#     NonPRPimpact,           MinNonPRPimpact,  MaxNonPRPimpact, \t{'{\\bfWider contribution}'['\\fontsize{',num2str(FontSizeDetail),'}{# of non-peer-reviewed publication citations}']}\n",
    "#     FAcitations,            MinIndFACite,  MaxIndFACite,        {'{\\bfSelf-reliance}'['\\fontsize{',num2str(FontSizeDetail),'}{# of first-authored citations}']}\n",
    "#     IndependentCitations,   MinIndCite,  MaxIndCite,            {'{\\bfAutonomy}'['\\fontsize{',num2str(FontSizeDetail),'}{# of citations excluding PhD supervisor}']}\n",
    "#     Hindex,                 MinHindex,  MaxHindex,              {['\\fontsize{',num2str(FontSizeDetail),'}{Publication output and impact}'] ['\\fontsize{',num2str(FontSizeLabelsBig),'}{{\\bfAchievements}}']} }\n",
    "\n",
    "#         AnnualCitationsPerPRP,  MinIndAnnCite,  MaxIndAnnCite,      {' Research quality '['\\fontsize{',num2str(FontSizeDetail),'}{ Annual citations per peer-reviewed publication }']}\n",
    "#         OpenAccessOutput,       MinOAoutput,  MaxOAoutput,          {' Open-access contribution '['\\fontsize{',num2str(FontSizeDetail),'}{ Open-access output }']}\n",
    "#         NonPRPimpact,           MinNonPRPimpact,  MaxNonPRPimpact, \t{' Academic involvement '['\\fontsize{',num2str(FontSizeDetail),'}{ Non-peer-reviewed publication impact }']}\n",
    "#         FAcitations,            MinIndFACite,  MaxIndFACite,        {' Individual impact '['\\fontsize{',num2str(FontSizeDetail),'}{ Fraction of first-authored citations }']}\n",
    "#         IndependentCitations,   MinIndCite,  MaxIndCite,            {' Academic independency '['\\fontsize{',num2str(FontSizeDetail),'}{ Fraction of citations excluding PhD supervisor }']}\n",
    "#         ...#Hindex,                 MinHindex,  MaxHindex,              {'H-index'['\\fontsize{',num2str(FontSizeDetail),'}{Peer-reviewed publication output}']}  }\n",
    "#         Hindex,                 MinHindex,  MaxHindex,              {' Academic seniority '['\\fontsize{',num2str(FontSizeDetail),'}{ Publication output and impact }']}  }\n",
    "\n",
    "## plotting\n",
    "categories = [\"Impact\",\n",
    "              \"Openness\",\n",
    "              \"Wider contribution\",\n",
    "              \"Self-reliance\",\n",
    "              \"Autonomy\",\n",
    "              \"Achievements\",\n",
    "              \"Impact\"] #\"Openness<br>second line\"\n",
    "categoriesTextOnly = [categories[i] for i in range(len(categories))]\n",
    "for i in range(len(categories)):\n",
    "    categories[i] = BoldString1+categories[i]+BoldString2\n",
    "MetricMaxValues = [MaxIndAnnCite, MaxOAoutput, MaxNonPRPimpact, MaxIndFACite, MaxIndCite, MaxHindex]\n",
    "\n",
    "print(AnnualCitationsPerPRP,OpenAccessOutput,NonPRPimpact,FAcitations,IndependentCitations,Hindex)\n",
    "\n",
    "try:\n",
    "    AnnualCitationsPerPRP = AnnualCitationsPerPRP[0]    \n",
    "except:\n",
    "    pass\n",
    "    \n",
    "try:\n",
    "    OpenAccessOutput = OpenAccessOutput[0]\n",
    "except:\n",
    "    pass\n",
    "    \n",
    "try:\n",
    "    NonPRPimpact = NonPRPimpact[0]\n",
    "except:\n",
    "    pass\n",
    "    \n",
    "try:\n",
    "    FAcitations = FAcitations[0]\n",
    "except:\n",
    "    pass\n",
    "    \n",
    "try:\n",
    "    IndependentCitations = IndependentCitations[0]\n",
    "except:\n",
    "    pass\n",
    "    \n",
    "print(AnnualCitationsPerPRP,OpenAccessOutput,NonPRPimpact,FAcitations,IndependentCitations,Hindex)\n",
    "\n",
    "#Hindex = Hindex\n",
    "MetricActual = [float(AnnualCitationsPerPRP), float(OpenAccessOutput), float(NonPRPimpact), float(FAcitations), float(IndependentCitations), float(Hindex)]\n",
    "\n",
    "#MetricActual.extend(AnnualCitationsPerPRP)\n",
    "#MetricActual.append(OpenAccessOutput)\n",
    "#MetricActual.extend(NonPRPimpact)\n",
    "#MetricActual.extend(FAcitations)\n",
    "#MetricActual.extend(IndependentCitations)\n",
    "#MetricActual.append(Hindex)\n",
    "\n",
    "#Close the graph\n",
    "#print(MetricMaxValues)\n",
    "MetricMaxValues.append(MetricMaxValues[0])\n",
    "#print(MetricMaxValues)\n",
    "MetricActual.append(MetricActual[0])\n",
    "\n",
    "#MetricNormalised = MetricActual/MetricMaxValues\n",
    "MetricNormalised = [a/b for a,b in zip(MetricActual,MetricMaxValues)]\n",
    "#print(MetricNormalised)\n",
    "#print(MetricNormalised[0],MetricNormalised[1])\n",
    "\n",
    "\n",
    "numberRticks = 6\n",
    "numberThetaAxes = 6\n",
    "underlyingRaxis = np.linspace(0,1,numberRticks)\n",
    "axisTicks1 = [np.linspace(MinIndAnnCite,MaxIndAnnCite,numberRticks),\n",
    "              np.linspace(MinOAoutput,MaxOAoutput,numberRticks),\n",
    "              np.linspace(MinNonPRPimpact,MaxNonPRPimpact,numberRticks),\n",
    "              np.linspace(MinIndFACite,MaxIndFACite,numberRticks),\n",
    "              np.linspace(MinIndCite,MaxIndCite,numberRticks),\n",
    "              np.linspace(MinHindex,MaxHindex,numberRticks)] #Impact, ...\n",
    "\n",
    "\n",
    "#TERMINAL OUTPUT\n",
    "print(\"\")\n",
    "print(FirstName+\" \"+LastName)\n",
    "print(CreationDateString)\n",
    "print(\"\")\n",
    "for i in range(len(MetricActual)-1):\n",
    "    print(categoriesTextOnly[i],\": \",round(MetricActual[i], 1))\n",
    "\n",
    "\n",
    "fig = go.Figure()  \n",
    "\n",
    "fig.add_trace(go.Scatterpolar(\n",
    "      name = \"angular categories\",\n",
    "      r = MetricNormalised,\n",
    "      theta = categories,\n",
    "      fill='none', #'toself',\n",
    "      mode=\"text\", #\"lines+markers+text\",\n",
    "    ))\n",
    "#fig.update_traces(fill='toself')\n",
    "\n",
    "fig.update_layout(\n",
    "    autosize=False,\n",
    "    height=580, \n",
    "    width =900,\n",
    "    margin=dict(l=80, r=120, b=100, t=80, pad=5),\n",
    "    polar=dict(\n",
    "        bgcolor=CanvasColour, #\"transparent\",\n",
    "        radialaxis=dict(\n",
    "            angle=45,\n",
    "            visible=False,\n",
    "            showticklabels=False,\n",
    "            showline=False,\n",
    "            range=[-0.2,1.2],\n",
    "            nticks=8,\n",
    "            gridcolor=Colour2,\n",
    "            gridwidth=2),\n",
    "        angularaxis=dict(\n",
    "            visible=True,\n",
    "            direction=\"clockwise\",\n",
    "            rotation=90,\n",
    "            gridcolor=Colour4,\n",
    "            gridwidth=14,\n",
    "            showline=False)),\n",
    "    plot_bgcolor=CanvasColour,\n",
    "    paper_bgcolor=CanvasColour,\n",
    "    font_family = \"Open Sans,Helvetica,sans-serif\",\n",
    "    font_color = Colour3,\n",
    "    font_size = FontSizeGeneral,\n",
    "    showlegend=False)\n",
    "\n",
    "\n",
    "\n",
    "fig.add_annotation(text=BoldString1+FirstName+\" \"+LastName+BoldString2,\n",
    "                  xref=\"paper\", yref=\"paper\",\n",
    "                  x=AnnotationShiftX, y=AnnotationBaseY, font_color=Colour1,opacity=0.5, xanchor=\"right\",yanchor=\"bottom\", showarrow=False)\n",
    "fig.add_annotation(text=BoldString1+LastName+BoldString2,\n",
    "                  xref=\"paper\", yref=\"paper\",\n",
    "                  x=AnnotationShiftX, y=AnnotationBaseY, font_color=Colour1, xanchor=\"right\",yanchor=\"bottom\", showarrow=False)\n",
    "fig.add_annotation(text=ProAcString,\n",
    "                  xref=\"paper\", yref=\"paper\",\n",
    "                  x=AnnotationShiftX, y=AnnotationBaseY-0.08, font_color=Colour2, xanchor=\"right\",yanchor=\"bottom\", showarrow=False)\n",
    "fig.add_annotation(text=\"as of \"+BoldString1+CreationDateString+BoldString2,\n",
    "                  xref=\"paper\", yref=\"paper\",\n",
    "                  x=1-AnnotationShiftX, y=AnnotationBaseY, font_color=Colour1, xanchor=\"left\",yanchor=\"bottom\", showarrow=False)\n",
    "fig.add_annotation(text=\"as of\",\n",
    "                  xref=\"paper\", yref=\"paper\",\n",
    "                  x=1-AnnotationShiftX, y=AnnotationBaseY, font_color=BackgroundColour, opacity=0.5, xanchor=\"left\",yanchor=\"bottom\", showarrow=False)\n",
    "fig.add_annotation(text=ProAcCopyrightString,\n",
    "                  xref=\"paper\", yref=\"paper\",\n",
    "                  x=1-AnnotationShiftX, y=AnnotationBaseY+ShiftWatermarkY, font_color=Colour2, font_size=FontSizeSmall, xanchor=\"left\",yanchor=\"bottom\", showarrow=False)\n",
    "fig.add_annotation(text=UndertoneDesignWatermark,\n",
    "                  xref=\"paper\", yref=\"paper\", \n",
    "                  x=1-AnnotationShiftX, y=AnnotationBaseY+ShiftWatermarkY-0.04, font_color=Colour5, font_size=FontSizeSmall, xanchor=\"left\",yanchor=\"bottom\", showarrow=False)\n",
    "\n",
    "#Metric subexplanations\n",
    "fig.add_annotation(text=\"Annual citations per peer-reviewed publication\",\n",
    "                  xref=\"paper\", yref=\"paper\",\n",
    "                  x=0.5, y=1.07, font_color=Colour3, font_size=FontSizeSmall, xanchor=\"center\",yanchor=\"bottom\", showarrow=False)\n",
    "fig.add_annotation(text=\"% of open-access output during past 5 years\",\n",
    "                  xref=\"paper\", yref=\"paper\",\n",
    "                  x=1-AnnotationShiftX, y=0.8, font_color=Colour3, font_size=FontSizeSmall, xanchor=\"left\",yanchor=\"bottom\", showarrow=False)\n",
    "fig.add_annotation(text=\"% of non-peer-reviewed publication citations\",\n",
    "                  xref=\"paper\", yref=\"paper\",\n",
    "                  x=1-AnnotationShiftX, y=0.18, font_color=Colour3, font_size=FontSizeSmall, xanchor=\"left\",yanchor=\"top\", showarrow=False)\n",
    "fig.add_annotation(text=\"% of first-authored citations\",\n",
    "                  xref=\"paper\", yref=\"paper\",\n",
    "                  x=0.5, y=-0.08, font_color=Colour3, font_size=FontSizeSmall, xanchor=\"center\",yanchor=\"top\", showarrow=False)\n",
    "fig.add_annotation(text=\"% of citations excluding PhD supervisor\",\n",
    "                  xref=\"paper\", yref=\"paper\",\n",
    "                  x=AnnotationShiftX, y=0.18, font_color=Colour3, font_size=FontSizeSmall, xanchor=\"right\",yanchor=\"top\", showarrow=False)\n",
    "fig.add_annotation(text=\"Publication output and impact\",\n",
    "                  xref=\"paper\", yref=\"paper\",\n",
    "                  x=AnnotationShiftX, y=0.8, font_color=Colour3, font_size=FontSizeSmall, xanchor=\"right\",yanchor=\"bottom\", showarrow=False)\n",
    "\n",
    "\n",
    "#Spidergraph custom spider grid\n",
    "for ir in underlyingRaxis:\n",
    "    fig.add_trace(go.Scatterpolar(\n",
    "            r=[ir,ir,ir,ir,ir,ir,ir],\n",
    "            theta=categories,\n",
    "            mode=\"lines\", #\"lines+markers+text\",\n",
    "            fill=\"none\",\n",
    "            #fillcolor=Colour1,\n",
    "            marker_color=Colour2,\n",
    "            marker_size=0,\n",
    "            line_width=2,\n",
    "            opacity=1.0,\n",
    "            name=\"Product A\"))\n",
    "\n",
    "if VerboseMode: \n",
    "    print(underlyingRaxis)    \n",
    "\n",
    "\n",
    "for itheta in categories:\n",
    "    fig.add_trace(go.Scatterpolar(\n",
    "            r=[-0.2,1.1],\n",
    "            theta=[str(itheta), str(itheta)],\n",
    "            mode=\"lines\", #\"lines+markers+text\",\n",
    "            fill=\"none\",\n",
    "            #fillcolor=Colour1,\n",
    "            marker_color=Colour4,\n",
    "            marker_size=10,\n",
    "            line_width=14, #28,\n",
    "            opacity=1.0,\n",
    "            name=\"Product A\"))\n",
    "    \n",
    "#Actual Spider Graph\n",
    "#Check for exceeding max values \n",
    "#MetricActualPrint = MetricActual.astype('str')\n",
    "MetricActualPrint = [\"%.0f\" % MetricActual for MetricActual in MetricActual]\n",
    "#MetricActual = [int(x) for x in MetricActual]\n",
    "\n",
    "if VerboseMode:\n",
    "    print(MetricActualPrint)\n",
    "    \n",
    "for i in range(len(MetricActual)):\n",
    "    if MetricActual[i]>=MetricMaxValues[i]:\n",
    "        MetricActualPrint[i] = \"max\"\n",
    "        MetricNormalised[i] = 1\n",
    "    MetricActualPrint[i] = BoldString1+MetricActualPrint[i]+BoldString2\n",
    "\n",
    "#Spidergraph axes (loop twice to make fill darker)\n",
    "for i in range(0,2):\n",
    "    fig.add_trace(go.Scatterpolar(\n",
    "        r=MetricNormalised,\n",
    "        theta=categories,\n",
    "        mode=\"lines+markers\", #\"lines+markers+text\",\n",
    "        fill=\"toself\",\n",
    "        #fillcolor=Colour1,\n",
    "        marker_color=Colour1,\n",
    "        marker_size=28,\n",
    "        line_width=7,\n",
    "        opacity=1.0,\n",
    "        name=\"Product A\"))\n",
    "\n",
    "        \n",
    "fig.add_trace(go.Scatterpolar(\n",
    "        r=MetricNormalised,\n",
    "        theta=categories,\n",
    "        mode=\"text\", #\"lines+markers+text\",\n",
    "        name=\"Value Text\",\n",
    "        text=MetricActualPrint, #[\"Text A\", \"Text B\", \"Text C\"],\n",
    "        textposition=\"middle center\",\n",
    "        textfont = dict(\n",
    "            size=FontSizeNumbers,\n",
    "            color=Colour2),\n",
    "        marker_color=\"black\",\n",
    "        marker_size=0,\n",
    "        line_width=0))\n",
    "\n",
    "#Axis tick labels\n",
    "NumTicksInOneAxis = numberRticks\n",
    "NumAxes = numberThetaAxes\n",
    "\n",
    "if VerboseMode:\n",
    "    print(\"axis ticks: \",axisTicks1)\n",
    "    print(\"here: \",underlyingRaxis,list(underlyingRaxis))\n",
    "    \n",
    "#print(axisTicks1[1][0])\n",
    "for iaxis in range(0,NumAxes):\n",
    "    for iticks in range(0,NumTicksInOneAxis):\n",
    "        critRdiff = (axisTicks1[iaxis][2]-axisTicks1[iaxis][1])*3/4\n",
    "        if abs(axisTicks1[iaxis][iticks]-MetricActual[iaxis])>=critRdiff and not ( MetricActual[iaxis]>MetricMaxValues[iaxis] and iticks+1==NumTicksInOneAxis ):\n",
    "            fig.add_trace(go.Scatterpolar(\n",
    "                    r=[underlyingRaxis[iticks]],\n",
    "                    theta=[categories[iaxis]], #str()\n",
    "                    mode=\"text\", #\"lines+markers+text\",\n",
    "                    name=\"Axis Text\",\n",
    "                    text=BoldString1+str(int(axisTicks1[iaxis][iticks]))+BoldString2, #[\"Text A\", \"Text B\", \"Text C\"],\n",
    "                    textposition=\"middle center\",\n",
    "                    textfont=dict(\n",
    "                        #family=\"sans serif\",\n",
    "                        size=FontSizeNumbers-4,\n",
    "                        color=Colour2),\n",
    "                    marker_color=\"black\",\n",
    "                    marker_size=0,\n",
    "                    line_width=0)) \n",
    "            \n",
    "\n",
    "fig.update_layout(\n",
    "    polar=dict(\n",
    "        bgcolor=CanvasColour),\n",
    "    plot_bgcolor=CanvasColour,\n",
    "    paper_bgcolor=CanvasColour)\n",
    "            \n",
    "fig.show()"
   ]
  },
  {
   "cell_type": "code",
   "execution_count": 4,
   "id": "4273473c-ee61-4fdb-ad03-321a78d6f451",
   "metadata": {
    "tags": []
   },
   "outputs": [],
   "source": [
    "\n",
    "# CREATE SAVE DIRECTORY\n",
    "#import os\n",
    "\n",
    "if not os.path.exists(\"Images\"):\n",
    "    os.mkdir(\"Images\")\n",
    "    \n",
    "if DarkMode:\n",
    "    suffix = \"-Dark\"\n",
    "else:\n",
    "    suffix = \"\"\n",
    "    \n",
    "FileName = \"ProAc-\"+FirstName+LastName+\"-\"+CreationDateString2+suffix\n",
    "\n",
    "\n",
    "\n",
    "# SAVE FIGURES\n",
    "if SavePNG:\n",
    "    fig.write_image(\"Images/\"+FileName+\".png\",scale=FigScale) #format=\"png\", width=600, height=350, scale=2)\n",
    "    #PlotlyJS.savefig(fig,\"myplot.png\",scale=FigScale)      # saves the CURRENT_PLOT as a .png\n",
    "    \n",
    "if SavePDF:\n",
    "    fig.write_image(\"Images/\"+FileName+\".pdf\")\n",
    "    #PlotlyJS.savefig(fig,\"myplot.pdf\")      # saves the CURRENT_PLOT as a .png\n",
    "\n",
    "if SaveSVG:\n",
    "    fig.write_image(\"Images/\"+FileName+\".svg\")\n",
    "\n",
    "if SaveHTML:\n",
    "    fig.write_html(\"Images/\"+FileName+\".html\")\n",
    "\n",
    "# savefig(filename_string) # save the most recent fig as filename_string (such as \"output.png\")\n",
    "# savefig(plot_ref, filename_string) # save the fig referenced by plot_ref as filename_string (such as \"output.png\")\n"
   ]
  },
  {
   "cell_type": "code",
   "execution_count": null,
   "id": "efaf5a1b-2459-42e6-a6d6-61b9a75cbcc3",
   "metadata": {},
   "outputs": [],
   "source": []
  }
 ],
 "metadata": {
  "kernelspec": {
   "display_name": "Python (jlabenv)",
   "language": "python",
   "name": "jlabenv"
  },
  "language_info": {
   "codemirror_mode": {
    "name": "ipython",
    "version": 3
   },
   "file_extension": ".py",
   "mimetype": "text/x-python",
   "name": "python",
   "nbconvert_exporter": "python",
   "pygments_lexer": "ipython3",
   "version": "3.11.8"
  }
 },
 "nbformat": 4,
 "nbformat_minor": 5
}
